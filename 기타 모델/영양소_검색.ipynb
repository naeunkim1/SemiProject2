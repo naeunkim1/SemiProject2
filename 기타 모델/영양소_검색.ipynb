{
  "nbformat": 4,
  "nbformat_minor": 0,
  "metadata": {
    "colab": {
      "name": "영양소 검색.ipynb",
      "provenance": [],
      "collapsed_sections": []
    },
    "kernelspec": {
      "name": "python3",
      "display_name": "Python 3"
    },
    "language_info": {
      "name": "python"
    }
  },
  "cells": [
    {
      "cell_type": "code",
      "source": [
        "from google.colab import drive\n",
        "drive.mount('/content/drive')"
      ],
      "metadata": {
        "colab": {
          "base_uri": "https://localhost:8080/"
        },
        "id": "7zAJQlhI_7nx",
        "outputId": "fb099350-f4a0-45a9-ddaf-bb12960f23d6"
      },
      "execution_count": 2,
      "outputs": [
        {
          "output_type": "stream",
          "name": "stdout",
          "text": [
            "Drive already mounted at /content/drive; to attempt to forcibly remount, call drive.mount(\"/content/drive\", force_remount=True).\n"
          ]
        }
      ]
    },
    {
      "cell_type": "code",
      "execution_count": 1,
      "metadata": {
        "id": "OnQWKnSDdx2n"
      },
      "outputs": [],
      "source": [
        "import pandas as pd\n",
        "df = pd.read_excel(\"/content/drive/MyDrive/semipro2/음식분류 AI 데이터 영양DB.xlsx\")"
      ]
    },
    {
      "cell_type": "code",
      "source": [
        "df=df[['음 식 명', '중량(g)', '에너지(kcal)', '탄수화물(g)', '당류(g)', '지방(g)', '단백질(g)',\n",
        "       '칼슘(mg)', '나트륨(mg)', '마그네슘(mg)', \n",
        "       '콜레스테롤(mg)']]"
      ],
      "metadata": {
        "id": "tKwrlhIcF5vD"
      },
      "execution_count": 3,
      "outputs": []
    },
    {
      "cell_type": "code",
      "source": [
        "df = df.replace(\"-\", 0)"
      ],
      "metadata": {
        "id": "127ZsuDIxyJ-"
      },
      "execution_count": 4,
      "outputs": []
    },
    {
      "cell_type": "code",
      "source": [
        "food_class = ['Rolled_egg', 'Kimchi', 'Rice', 'Bulgogi', 'Seaweed soup', 'Brown_rice', 'Mul_naengmyeon', 'Bibim_naengmyeon', 'Sujebi', 'Beef_radish_soup', 'Siraegi_Doenjang_soup','Doenjang_stew', 'Tuna_kimchi_stew', 'Jjimdak', 'Roasted_tofu', 'Pajeon', 'Stir_fried_anchovy', 'Simmered_mackerel', 'Acorn_muk', 'eggplant', 'Spinach_greens']"
      ],
      "metadata": {
        "id": "S9jfcdnsZXkI"
      },
      "execution_count": 5,
      "outputs": []
    },
    {
      "cell_type": "code",
      "source": [
        "f = open(\"test.txt\", \"r\")\n",
        "\n",
        "lst = []\n",
        "while True:\n",
        "    line = f.readline().strip()\n",
        "    if not line: break\n",
        "    lst.append(line)\n",
        "label = []\n",
        "for i in range(len(lst)):\n",
        "  if int(lst[i][0]) not in label:\n",
        "    label.append(int(lst[i][0]))\n",
        "food = []\n",
        "for lb in label:\n",
        "  food.append(food_class[lb])\n",
        "food"
      ],
      "metadata": {
        "colab": {
          "base_uri": "https://localhost:8080/"
        },
        "id": "8krX0fniNS68",
        "outputId": "695a202e-d8ff-4cfc-8181-310810746343"
      },
      "execution_count": null,
      "outputs": [
        {
          "output_type": "execute_result",
          "data": {
            "text/plain": [
              "['seaweed_soup', 'dish', 'kimchi', 'rice']"
            ]
          },
          "metadata": {},
          "execution_count": 80
        }
      ]
    },
    {
      "cell_type": "code",
      "source": [
        "# import json\n",
        "\n",
        "# with open('/content/test.json', 'r') as f:\n",
        "\n",
        "#     json_data = json.load(f)\n",
        "# food = []\n",
        "# for objects in json_data[0]['objects']:\n",
        "#     if objects['name'] not in food:\n",
        "#       food.append(objects['name'])\n",
        "# food"
      ],
      "metadata": {
        "colab": {
          "base_uri": "https://localhost:8080/"
        },
        "id": "Yd_P3PMx05rG",
        "outputId": "89ffd62c-a2a9-4446-fd72-58a3ead98ddf"
      },
      "execution_count": null,
      "outputs": [
        {
          "output_type": "execute_result",
          "data": {
            "text/plain": [
              "['쌀밥', '기타잡곡밥']"
            ]
          },
          "metadata": {},
          "execution_count": 45
        }
      ]
    },
    {
      "cell_type": "code",
      "source": [
        "food_df = pd.DataFrame()\n",
        "for i in range(len(df.index)):\n",
        "  for j in range(len(food)):\n",
        "    if food[j] == df.iloc[i, 0]:\n",
        "      food_df = pd.concat([food_df, pd.DataFrame(df.iloc[i, :].values[1:], df.iloc[i,:].index[1:],columns=[df.iloc[i,:][0]])], axis=1)\n",
        "food_df = food_df.astype('float')\n",
        "food_df['총합'] = food_df.sum(axis=1)\n",
        "food_df"
      ],
      "metadata": {
        "colab": {
          "base_uri": "https://localhost:8080/",
          "height": 363
        },
        "id": "wZik-44I5L7w",
        "outputId": "968b4bae-7d40-42b7-c692-0df95c9d161d"
      },
      "execution_count": null,
      "outputs": [
        {
          "output_type": "execute_result",
          "data": {
            "text/plain": [
              "               쌀밥     기타잡곡밥        총합\n",
              "중량(g)      210.00  200.0000  410.0000\n",
              "에너지(kcal)  334.80  302.3620  637.1620\n",
              "탄수화물(g)     73.71   65.5211  139.2311\n",
              "당류(g)        0.00    0.0000    0.0000\n",
              "지방(g)        0.45    0.7462    1.1962\n",
              "단백질(g)       5.76    6.7092   12.4692\n",
              "칼슘(mg)       3.60   12.0600   15.6600\n",
              "나트륨(mg)     59.40    3.3920   62.7920\n",
              "마그네슘(mg)     0.00    6.9000    6.9000\n",
              "콜레스테롤(mg)    0.00    0.0000    0.0000"
            ],
            "text/html": [
              "\n",
              "  <div id=\"df-01295a94-3195-4b79-a765-0e49ff7e4db1\">\n",
              "    <div class=\"colab-df-container\">\n",
              "      <div>\n",
              "<style scoped>\n",
              "    .dataframe tbody tr th:only-of-type {\n",
              "        vertical-align: middle;\n",
              "    }\n",
              "\n",
              "    .dataframe tbody tr th {\n",
              "        vertical-align: top;\n",
              "    }\n",
              "\n",
              "    .dataframe thead th {\n",
              "        text-align: right;\n",
              "    }\n",
              "</style>\n",
              "<table border=\"1\" class=\"dataframe\">\n",
              "  <thead>\n",
              "    <tr style=\"text-align: right;\">\n",
              "      <th></th>\n",
              "      <th>쌀밥</th>\n",
              "      <th>기타잡곡밥</th>\n",
              "      <th>총합</th>\n",
              "    </tr>\n",
              "  </thead>\n",
              "  <tbody>\n",
              "    <tr>\n",
              "      <th>중량(g)</th>\n",
              "      <td>210.00</td>\n",
              "      <td>200.0000</td>\n",
              "      <td>410.0000</td>\n",
              "    </tr>\n",
              "    <tr>\n",
              "      <th>에너지(kcal)</th>\n",
              "      <td>334.80</td>\n",
              "      <td>302.3620</td>\n",
              "      <td>637.1620</td>\n",
              "    </tr>\n",
              "    <tr>\n",
              "      <th>탄수화물(g)</th>\n",
              "      <td>73.71</td>\n",
              "      <td>65.5211</td>\n",
              "      <td>139.2311</td>\n",
              "    </tr>\n",
              "    <tr>\n",
              "      <th>당류(g)</th>\n",
              "      <td>0.00</td>\n",
              "      <td>0.0000</td>\n",
              "      <td>0.0000</td>\n",
              "    </tr>\n",
              "    <tr>\n",
              "      <th>지방(g)</th>\n",
              "      <td>0.45</td>\n",
              "      <td>0.7462</td>\n",
              "      <td>1.1962</td>\n",
              "    </tr>\n",
              "    <tr>\n",
              "      <th>단백질(g)</th>\n",
              "      <td>5.76</td>\n",
              "      <td>6.7092</td>\n",
              "      <td>12.4692</td>\n",
              "    </tr>\n",
              "    <tr>\n",
              "      <th>칼슘(mg)</th>\n",
              "      <td>3.60</td>\n",
              "      <td>12.0600</td>\n",
              "      <td>15.6600</td>\n",
              "    </tr>\n",
              "    <tr>\n",
              "      <th>나트륨(mg)</th>\n",
              "      <td>59.40</td>\n",
              "      <td>3.3920</td>\n",
              "      <td>62.7920</td>\n",
              "    </tr>\n",
              "    <tr>\n",
              "      <th>마그네슘(mg)</th>\n",
              "      <td>0.00</td>\n",
              "      <td>6.9000</td>\n",
              "      <td>6.9000</td>\n",
              "    </tr>\n",
              "    <tr>\n",
              "      <th>콜레스테롤(mg)</th>\n",
              "      <td>0.00</td>\n",
              "      <td>0.0000</td>\n",
              "      <td>0.0000</td>\n",
              "    </tr>\n",
              "  </tbody>\n",
              "</table>\n",
              "</div>\n",
              "      <button class=\"colab-df-convert\" onclick=\"convertToInteractive('df-01295a94-3195-4b79-a765-0e49ff7e4db1')\"\n",
              "              title=\"Convert this dataframe to an interactive table.\"\n",
              "              style=\"display:none;\">\n",
              "        \n",
              "  <svg xmlns=\"http://www.w3.org/2000/svg\" height=\"24px\"viewBox=\"0 0 24 24\"\n",
              "       width=\"24px\">\n",
              "    <path d=\"M0 0h24v24H0V0z\" fill=\"none\"/>\n",
              "    <path d=\"M18.56 5.44l.94 2.06.94-2.06 2.06-.94-2.06-.94-.94-2.06-.94 2.06-2.06.94zm-11 1L8.5 8.5l.94-2.06 2.06-.94-2.06-.94L8.5 2.5l-.94 2.06-2.06.94zm10 10l.94 2.06.94-2.06 2.06-.94-2.06-.94-.94-2.06-.94 2.06-2.06.94z\"/><path d=\"M17.41 7.96l-1.37-1.37c-.4-.4-.92-.59-1.43-.59-.52 0-1.04.2-1.43.59L10.3 9.45l-7.72 7.72c-.78.78-.78 2.05 0 2.83L4 21.41c.39.39.9.59 1.41.59.51 0 1.02-.2 1.41-.59l7.78-7.78 2.81-2.81c.8-.78.8-2.07 0-2.86zM5.41 20L4 18.59l7.72-7.72 1.47 1.35L5.41 20z\"/>\n",
              "  </svg>\n",
              "      </button>\n",
              "      \n",
              "  <style>\n",
              "    .colab-df-container {\n",
              "      display:flex;\n",
              "      flex-wrap:wrap;\n",
              "      gap: 12px;\n",
              "    }\n",
              "\n",
              "    .colab-df-convert {\n",
              "      background-color: #E8F0FE;\n",
              "      border: none;\n",
              "      border-radius: 50%;\n",
              "      cursor: pointer;\n",
              "      display: none;\n",
              "      fill: #1967D2;\n",
              "      height: 32px;\n",
              "      padding: 0 0 0 0;\n",
              "      width: 32px;\n",
              "    }\n",
              "\n",
              "    .colab-df-convert:hover {\n",
              "      background-color: #E2EBFA;\n",
              "      box-shadow: 0px 1px 2px rgba(60, 64, 67, 0.3), 0px 1px 3px 1px rgba(60, 64, 67, 0.15);\n",
              "      fill: #174EA6;\n",
              "    }\n",
              "\n",
              "    [theme=dark] .colab-df-convert {\n",
              "      background-color: #3B4455;\n",
              "      fill: #D2E3FC;\n",
              "    }\n",
              "\n",
              "    [theme=dark] .colab-df-convert:hover {\n",
              "      background-color: #434B5C;\n",
              "      box-shadow: 0px 1px 3px 1px rgba(0, 0, 0, 0.15);\n",
              "      filter: drop-shadow(0px 1px 2px rgba(0, 0, 0, 0.3));\n",
              "      fill: #FFFFFF;\n",
              "    }\n",
              "  </style>\n",
              "\n",
              "      <script>\n",
              "        const buttonEl =\n",
              "          document.querySelector('#df-01295a94-3195-4b79-a765-0e49ff7e4db1 button.colab-df-convert');\n",
              "        buttonEl.style.display =\n",
              "          google.colab.kernel.accessAllowed ? 'block' : 'none';\n",
              "\n",
              "        async function convertToInteractive(key) {\n",
              "          const element = document.querySelector('#df-01295a94-3195-4b79-a765-0e49ff7e4db1');\n",
              "          const dataTable =\n",
              "            await google.colab.kernel.invokeFunction('convertToInteractive',\n",
              "                                                     [key], {});\n",
              "          if (!dataTable) return;\n",
              "\n",
              "          const docLinkHtml = 'Like what you see? Visit the ' +\n",
              "            '<a target=\"_blank\" href=https://colab.research.google.com/notebooks/data_table.ipynb>data table notebook</a>'\n",
              "            + ' to learn more about interactive tables.';\n",
              "          element.innerHTML = '';\n",
              "          dataTable['output_type'] = 'display_data';\n",
              "          await google.colab.output.renderOutput(dataTable, element);\n",
              "          const docLink = document.createElement('div');\n",
              "          docLink.innerHTML = docLinkHtml;\n",
              "          element.appendChild(docLink);\n",
              "        }\n",
              "      </script>\n",
              "    </div>\n",
              "  </div>\n",
              "  "
            ]
          },
          "metadata": {},
          "execution_count": 54
        }
      ]
    },
    {
      "cell_type": "markdown",
      "source": [
        "================================================================================================================================================================================================="
      ],
      "metadata": {
        "id": "7XGcwPHX7KLy"
      }
    },
    {
      "cell_type": "code",
      "source": [
        "food = []\n",
        "search = ''\n",
        "food_df = pd.DataFrame()\n",
        "while (search != 'q' and search != 'Q'):\n",
        "  search = input()\n",
        "  if search != 'q':\n",
        "    food.append(search)\n",
        "for i in range(len(df.index)):\n",
        "  for j in range(len(food)):\n",
        "    if food[j] == df.iloc[i, 0]:\n",
        "      food_df = pd.concat([food_df, pd.DataFrame(df.iloc[i, :].values[1:], df.iloc[i,:].index[1:],columns=[df.iloc[i,:][0]])], axis=1)\n",
        "food_df"
      ],
      "metadata": {
        "colab": {
          "base_uri": "https://localhost:8080/",
          "height": 449
        },
        "id": "dcc__3wZhaTU",
        "outputId": "e54a6765-ff92-4ec9-ad48-3cc49a3ca780"
      },
      "execution_count": null,
      "outputs": [
        {
          "name": "stdout",
          "output_type": "stream",
          "text": [
            "쌀밥\n",
            "기타잡곡밥\n",
            "q\n"
          ]
        },
        {
          "output_type": "execute_result",
          "data": {
            "text/plain": [
              "                쌀밥    기타잡곡밥\n",
              "중량(g)        210.0    200.0\n",
              "에너지(kcal)    334.8  302.362\n",
              "탄수화물(g)      73.71  65.5211\n",
              "당류(g)          0.0      0.0\n",
              "지방(g)         0.45   0.7462\n",
              "단백질(g)        5.76   6.7092\n",
              "칼슘(mg)         3.6    12.06\n",
              "나트륨(mg)       59.4    3.392\n",
              "마그네슘(mg)       0.0      6.9\n",
              "콜레스테롤(mg)      0.0      0.0\n",
              "파일번호       1011001  1012001"
            ],
            "text/html": [
              "\n",
              "  <div id=\"df-d7e220a4-5457-4ac2-b30c-503dd96f1ae4\">\n",
              "    <div class=\"colab-df-container\">\n",
              "      <div>\n",
              "<style scoped>\n",
              "    .dataframe tbody tr th:only-of-type {\n",
              "        vertical-align: middle;\n",
              "    }\n",
              "\n",
              "    .dataframe tbody tr th {\n",
              "        vertical-align: top;\n",
              "    }\n",
              "\n",
              "    .dataframe thead th {\n",
              "        text-align: right;\n",
              "    }\n",
              "</style>\n",
              "<table border=\"1\" class=\"dataframe\">\n",
              "  <thead>\n",
              "    <tr style=\"text-align: right;\">\n",
              "      <th></th>\n",
              "      <th>쌀밥</th>\n",
              "      <th>기타잡곡밥</th>\n",
              "    </tr>\n",
              "  </thead>\n",
              "  <tbody>\n",
              "    <tr>\n",
              "      <th>중량(g)</th>\n",
              "      <td>210.0</td>\n",
              "      <td>200.0</td>\n",
              "    </tr>\n",
              "    <tr>\n",
              "      <th>에너지(kcal)</th>\n",
              "      <td>334.8</td>\n",
              "      <td>302.362</td>\n",
              "    </tr>\n",
              "    <tr>\n",
              "      <th>탄수화물(g)</th>\n",
              "      <td>73.71</td>\n",
              "      <td>65.5211</td>\n",
              "    </tr>\n",
              "    <tr>\n",
              "      <th>당류(g)</th>\n",
              "      <td>0.0</td>\n",
              "      <td>0.0</td>\n",
              "    </tr>\n",
              "    <tr>\n",
              "      <th>지방(g)</th>\n",
              "      <td>0.45</td>\n",
              "      <td>0.7462</td>\n",
              "    </tr>\n",
              "    <tr>\n",
              "      <th>단백질(g)</th>\n",
              "      <td>5.76</td>\n",
              "      <td>6.7092</td>\n",
              "    </tr>\n",
              "    <tr>\n",
              "      <th>칼슘(mg)</th>\n",
              "      <td>3.6</td>\n",
              "      <td>12.06</td>\n",
              "    </tr>\n",
              "    <tr>\n",
              "      <th>나트륨(mg)</th>\n",
              "      <td>59.4</td>\n",
              "      <td>3.392</td>\n",
              "    </tr>\n",
              "    <tr>\n",
              "      <th>마그네슘(mg)</th>\n",
              "      <td>0.0</td>\n",
              "      <td>6.9</td>\n",
              "    </tr>\n",
              "    <tr>\n",
              "      <th>콜레스테롤(mg)</th>\n",
              "      <td>0.0</td>\n",
              "      <td>0.0</td>\n",
              "    </tr>\n",
              "    <tr>\n",
              "      <th>파일번호</th>\n",
              "      <td>1011001</td>\n",
              "      <td>1012001</td>\n",
              "    </tr>\n",
              "  </tbody>\n",
              "</table>\n",
              "</div>\n",
              "      <button class=\"colab-df-convert\" onclick=\"convertToInteractive('df-d7e220a4-5457-4ac2-b30c-503dd96f1ae4')\"\n",
              "              title=\"Convert this dataframe to an interactive table.\"\n",
              "              style=\"display:none;\">\n",
              "        \n",
              "  <svg xmlns=\"http://www.w3.org/2000/svg\" height=\"24px\"viewBox=\"0 0 24 24\"\n",
              "       width=\"24px\">\n",
              "    <path d=\"M0 0h24v24H0V0z\" fill=\"none\"/>\n",
              "    <path d=\"M18.56 5.44l.94 2.06.94-2.06 2.06-.94-2.06-.94-.94-2.06-.94 2.06-2.06.94zm-11 1L8.5 8.5l.94-2.06 2.06-.94-2.06-.94L8.5 2.5l-.94 2.06-2.06.94zm10 10l.94 2.06.94-2.06 2.06-.94-2.06-.94-.94-2.06-.94 2.06-2.06.94z\"/><path d=\"M17.41 7.96l-1.37-1.37c-.4-.4-.92-.59-1.43-.59-.52 0-1.04.2-1.43.59L10.3 9.45l-7.72 7.72c-.78.78-.78 2.05 0 2.83L4 21.41c.39.39.9.59 1.41.59.51 0 1.02-.2 1.41-.59l7.78-7.78 2.81-2.81c.8-.78.8-2.07 0-2.86zM5.41 20L4 18.59l7.72-7.72 1.47 1.35L5.41 20z\"/>\n",
              "  </svg>\n",
              "      </button>\n",
              "      \n",
              "  <style>\n",
              "    .colab-df-container {\n",
              "      display:flex;\n",
              "      flex-wrap:wrap;\n",
              "      gap: 12px;\n",
              "    }\n",
              "\n",
              "    .colab-df-convert {\n",
              "      background-color: #E8F0FE;\n",
              "      border: none;\n",
              "      border-radius: 50%;\n",
              "      cursor: pointer;\n",
              "      display: none;\n",
              "      fill: #1967D2;\n",
              "      height: 32px;\n",
              "      padding: 0 0 0 0;\n",
              "      width: 32px;\n",
              "    }\n",
              "\n",
              "    .colab-df-convert:hover {\n",
              "      background-color: #E2EBFA;\n",
              "      box-shadow: 0px 1px 2px rgba(60, 64, 67, 0.3), 0px 1px 3px 1px rgba(60, 64, 67, 0.15);\n",
              "      fill: #174EA6;\n",
              "    }\n",
              "\n",
              "    [theme=dark] .colab-df-convert {\n",
              "      background-color: #3B4455;\n",
              "      fill: #D2E3FC;\n",
              "    }\n",
              "\n",
              "    [theme=dark] .colab-df-convert:hover {\n",
              "      background-color: #434B5C;\n",
              "      box-shadow: 0px 1px 3px 1px rgba(0, 0, 0, 0.15);\n",
              "      filter: drop-shadow(0px 1px 2px rgba(0, 0, 0, 0.3));\n",
              "      fill: #FFFFFF;\n",
              "    }\n",
              "  </style>\n",
              "\n",
              "      <script>\n",
              "        const buttonEl =\n",
              "          document.querySelector('#df-d7e220a4-5457-4ac2-b30c-503dd96f1ae4 button.colab-df-convert');\n",
              "        buttonEl.style.display =\n",
              "          google.colab.kernel.accessAllowed ? 'block' : 'none';\n",
              "\n",
              "        async function convertToInteractive(key) {\n",
              "          const element = document.querySelector('#df-d7e220a4-5457-4ac2-b30c-503dd96f1ae4');\n",
              "          const dataTable =\n",
              "            await google.colab.kernel.invokeFunction('convertToInteractive',\n",
              "                                                     [key], {});\n",
              "          if (!dataTable) return;\n",
              "\n",
              "          const docLinkHtml = 'Like what you see? Visit the ' +\n",
              "            '<a target=\"_blank\" href=https://colab.research.google.com/notebooks/data_table.ipynb>data table notebook</a>'\n",
              "            + ' to learn more about interactive tables.';\n",
              "          element.innerHTML = '';\n",
              "          dataTable['output_type'] = 'display_data';\n",
              "          await google.colab.output.renderOutput(dataTable, element);\n",
              "          const docLink = document.createElement('div');\n",
              "          docLink.innerHTML = docLinkHtml;\n",
              "          element.appendChild(docLink);\n",
              "        }\n",
              "      </script>\n",
              "    </div>\n",
              "  </div>\n",
              "  "
            ]
          },
          "metadata": {},
          "execution_count": 14
        }
      ]
    }
  ]
}